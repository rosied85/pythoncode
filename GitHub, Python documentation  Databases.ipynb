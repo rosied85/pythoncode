{
 "cells": [
  {
   "cell_type": "markdown",
   "metadata": {},
   "source": [
    "# GitHub \n",
    "Link: education.github.com/git-cheat-sheet-education.pdf"
   ]
  },
  {
   "cell_type": "markdown",
   "metadata": {},
   "source": [
    "In order to use GitHub I post you next the statements to install and configure the program:"
   ]
  },
  {
   "cell_type": "markdown",
   "metadata": {},
   "source": [
    "### Installation"
   ]
  },
  {
   "cell_type": "code",
   "execution_count": null,
   "metadata": {},
   "outputs": [],
   "source": [
    "!sudo apt install git "
   ]
  },
  {
   "cell_type": "markdown",
   "metadata": {},
   "source": [
    "### Setup account"
   ]
  },
  {
   "cell_type": "markdown",
   "metadata": {},
   "source": [
    "Replace x by your username and email associated to the GitHub account."
   ]
  },
  {
   "cell_type": "code",
   "execution_count": null,
   "metadata": {},
   "outputs": [],
   "source": [
    "!git config --global user.name x\n",
    "!git config --global user.email x"
   ]
  },
  {
   "cell_type": "markdown",
   "metadata": {},
   "source": [
    "### Create directory to store the repository"
   ]
  },
  {
   "cell_type": "markdown",
   "metadata": {},
   "source": [
    "We are going to clone the repository **Practical_part_22** to our local device. <br><br> Before, we will create a directory into Documents that will store the repository. If you want to create the directory in other path you can do it. Only **keep in mind** about the path you will use. <br><br> First, let's check where we are located. Normally, we start in the directory where we execute the statement *jupyter notebook*. Likewise we going to check it."
   ]
  },
  {
   "cell_type": "code",
   "execution_count": null,
   "metadata": {},
   "outputs": [],
   "source": [
    "!pwd #Our actually working path "
   ]
  },
  {
   "cell_type": "code",
   "execution_count": null,
   "metadata": {},
   "outputs": [],
   "source": [
    "!ls /home/.../Documents #Check the directories"
   ]
  },
  {
   "cell_type": "code",
   "execution_count": null,
   "metadata": {},
   "outputs": [],
   "source": [
    "!mkdir /home/.../Documents/... #Creates a new directory into Documents path\n",
    "!ls /home/.../Documents #Check if is a success"
   ]
  },
  {
   "cell_type": "markdown",
   "metadata": {},
   "source": [
    "Now, we are going to clone the repository to this new directory using the next statement. I recommend to you to perform this step into a terminal because the program ask for your username & password. "
   ]
  },
  {
   "cell_type": "code",
   "execution_count": null,
   "metadata": {},
   "outputs": [],
   "source": [
    "!git clone https://github.com/Advanced-bioinformatics-UVic/Practical_part_22.git /home/.../Documents/..."
   ]
  },
  {
   "cell_type": "code",
   "execution_count": null,
   "metadata": {},
   "outputs": [],
   "source": [
    "!ls /home/.../Documents/... "
   ]
  },
  {
   "cell_type": "markdown",
   "metadata": {},
   "source": [
    "If we open the file **README.md** you can see that looks like the file in the web. "
   ]
  },
  {
   "cell_type": "code",
   "execution_count": null,
   "metadata": {},
   "outputs": [],
   "source": [
    "file = open(\"/home/.../Documents/.../README.md\", \"r\")\n",
    "for l in file.readlines():\n",
    "    print(l)"
   ]
  },
  {
   "cell_type": "markdown",
   "metadata": {},
   "source": [
    "### Upload files to the repository"
   ]
  },
  {
   "cell_type": "markdown",
   "metadata": {},
   "source": [
    "Next we will use the *notebook/script file* that I asked Tuesday in the class. First, download or localize the file into your local device and copy this file into the repository that you created in the previous steps."
   ]
  },
  {
   "cell_type": "code",
   "execution_count": null,
   "metadata": {},
   "outputs": [],
   "source": [
    "!cp /home/.../....py /home/.../Documents/.../\n",
    "!ls /home/.../Documents/.../"
   ]
  },
  {
   "cell_type": "code",
   "execution_count": null,
   "metadata": {},
   "outputs": [],
   "source": [
    "!git status #Checks the traffic of files"
   ]
  },
  {
   "cell_type": "markdown",
   "metadata": {},
   "source": [
    "If you not use the statement into the directory of the repository git returns an error saying that are not directories. This occurs because it checks the working directory. For this reason, we need to change the working directory and we will use the basic package **os**. <br> <br> If you are using a terminal you only to stay located into the directory. "
   ]
  },
  {
   "cell_type": "code",
   "execution_count": null,
   "metadata": {},
   "outputs": [],
   "source": [
    "import os \n",
    "os.getcwd() #Return the actual working directory like in R."
   ]
  },
  {
   "cell_type": "code",
   "execution_count": null,
   "metadata": {},
   "outputs": [],
   "source": [
    "os.chdir('/home/.../Documents/.../') #Replace the working path\n",
    "os.getcwd() #Check the change"
   ]
  },
  {
   "cell_type": "markdown",
   "metadata": {},
   "source": [
    "Using the statement git status again:"
   ]
  },
  {
   "cell_type": "code",
   "execution_count": null,
   "metadata": {},
   "outputs": [],
   "source": [
    "!git status"
   ]
  },
  {
   "cell_type": "markdown",
   "metadata": {},
   "source": [
    "As you can see in the message, git told us that one file is untracked. This file is the file that we copied in the previous steps. <br><br> How we track this file? Using the statement git add. In the statement git status also suggest to us the command to tracked the file and add it into the repository. (Remember that you change the working path and you can use relative paths than absolute ones)"
   ]
  },
  {
   "cell_type": "code",
   "execution_count": null,
   "metadata": {},
   "outputs": [],
   "source": [
    "!git add ....py\n",
    "!git status"
   ]
  },
  {
   "cell_type": "markdown",
   "metadata": {},
   "source": [
    "Now the message of git status changes and we can see that our file appears in a green color. In case that we wanna remove this file before we committed the changes using **git reset [file]** (without []).  "
   ]
  },
  {
   "cell_type": "markdown",
   "metadata": {},
   "source": [
    "### Use of branches"
   ]
  },
  {
   "cell_type": "markdown",
   "metadata": {},
   "source": [
    "How we are a lot of people working in the same repository we will introduce the branches. <br> <br> The way GitHub manage this timeline (especially when more than one person is working in the project and making changes) is by using these branches. A **branch** is essentially is a unique set of code changes with a unique name. Each repository can have one or more branches. <br> <br>Using the next statment we can check the branches in our repository."
   ]
  },
  {
   "cell_type": "code",
   "execution_count": null,
   "metadata": {},
   "outputs": [],
   "source": [
    "!git branch "
   ]
  },
  {
   "cell_type": "markdown",
   "metadata": {},
   "source": [
    "The **main branch** is the one where all changes eventually get merged back into, and is called master. This is the official working version of your project, and the one you see when you visit the home project repository at the web page. <br><br> Now, we are going to create our own branch to upload the changes of each of our files independently (replace x with your github account name):"
   ]
  },
  {
   "cell_type": "code",
   "execution_count": null,
   "metadata": {},
   "outputs": [],
   "source": [
    "!git branch x\n",
    "!git branch"
   ]
  },
  {
   "cell_type": "markdown",
   "metadata": {},
   "source": [
    "Here before commit out changes we need to change the working branch (indicated by the asterisk symbol)."
   ]
  },
  {
   "cell_type": "code",
   "execution_count": null,
   "metadata": {},
   "outputs": [],
   "source": [
    "!git checkout x"
   ]
  },
  {
   "cell_type": "code",
   "execution_count": null,
   "metadata": {},
   "outputs": [],
   "source": [
    "!git branch\n",
    "!git status"
   ]
  },
  {
   "cell_type": "markdown",
   "metadata": {},
   "source": [
    "Git indicates to us that now we are on branch adriangarciarecio and not in the origin/master branch. Next, we can commit the changes."
   ]
  },
  {
   "cell_type": "code",
   "execution_count": null,
   "metadata": {
    "scrolled": true
   },
   "outputs": [],
   "source": [
    "!git commit -m \"Adding the script file\""
   ]
  },
  {
   "cell_type": "code",
   "execution_count": null,
   "metadata": {},
   "outputs": [],
   "source": [
    "!git status"
   ]
  },
  {
   "cell_type": "markdown",
   "metadata": {},
   "source": [
    "Once we have nothing to commit we must push the changes to the repository. I recommend to use the next command in the terminal because git ask for the credencials. **Remember to stay located into the directory of the repository.**"
   ]
  },
  {
   "cell_type": "code",
   "execution_count": null,
   "metadata": {},
   "outputs": [],
   "source": [
    "!git push --set-upstream origin x"
   ]
  },
  {
   "cell_type": "markdown",
   "metadata": {},
   "source": [
    "Now we can check the changes in the GitHub web. Click into the Practical_part_22 and we can see the word branches before the list of files in the repository. Click there and we will see all the branches in this repository. Check if you branch is there. "
   ]
  },
  {
   "cell_type": "markdown",
   "metadata": {},
   "source": [
    "### Modify files & check changes"
   ]
  },
  {
   "cell_type": "markdown",
   "metadata": {},
   "source": [
    "Once we check that our branch already exists we are going to modify the script to improve the documentation.<br> <br> We save the modifications on our script and we will compare the local script with the before uploaded using the next statement:"
   ]
  },
  {
   "cell_type": "code",
   "execution_count": null,
   "metadata": {},
   "outputs": [],
   "source": [
    "!git diff"
   ]
  },
  {
   "cell_type": "markdown",
   "metadata": {},
   "source": [
    "Now, when we check that all modifications are good. We upload the file to our branch."
   ]
  },
  {
   "cell_type": "code",
   "execution_count": null,
   "metadata": {},
   "outputs": [],
   "source": [
    "!git branch"
   ]
  },
  {
   "cell_type": "code",
   "execution_count": null,
   "metadata": {},
   "outputs": [],
   "source": [
    "!git add ....py\n",
    "!git status\n",
    "!git commit -m \"Add documentation\""
   ]
  },
  {
   "cell_type": "code",
   "execution_count": null,
   "metadata": {},
   "outputs": [],
   "source": [
    "!git push #Use this command in terminal"
   ]
  },
  {
   "cell_type": "markdown",
   "metadata": {},
   "source": [
    "In case that developers of your team perform changes into the repository and do you want to upload your local files, you must use the command \"git pull\" or \"git merge\". "
   ]
  },
  {
   "cell_type": "markdown",
   "metadata": {},
   "source": [
    "# Manage information from databases"
   ]
  },
  {
   "cell_type": "markdown",
   "metadata": {},
   "source": [
    "## KEGG"
   ]
  },
  {
   "cell_type": "markdown",
   "metadata": {},
   "source": [
    "**Kyoto Encyclopedia of Genes and Genomes (KEGG)** is a database resource for understanding high-level functions and utilities of the biological system. Here we search some information about SARS-COV-2. Link: https://www.genome.jp/kegg/ "
   ]
  },
  {
   "cell_type": "markdown",
   "metadata": {},
   "source": [
    "Now, we are in the main page. Here we can identify a search bar at the top and below this bar a list of different entry points. Starting with the **main entry**, KEGG2, and ending with analysis tools. The difference between the main entry and the data-oriented entry points is that the main entry englobe all the **data-oriented** entry points. Like a general search vs advanced research."
   ]
  },
  {
   "cell_type": "markdown",
   "metadata": {},
   "source": [
    "In our case, we want to search all the information available about the SARS-COV-2. Once, we have the entry to the information we are going to take a look. Answer:"
   ]
  },
  {
   "cell_type": "markdown",
   "metadata": {},
   "source": [
    "**KEGG GENOME ENTRY**: \n",
    "\n",
    "**Lineage (last)**:  \n",
    "\n",
    "**Disease related (include ID)**: \n",
    "\n",
    "**Host (include ID)**:"
   ]
  },
  {
   "cell_type": "markdown",
   "metadata": {},
   "source": [
    "Next, we are going to see the information of the disease related with this virus. Click on the Disease ID to navigate to the detailed information. Answer:"
   ]
  },
  {
   "cell_type": "markdown",
   "metadata": {},
   "source": [
    "**Description**: \n",
    "\n",
    "**Category**: \n",
    "\n",
    "**Drug (include ID)**: "
   ]
  },
  {
   "cell_type": "markdown",
   "metadata": {},
   "source": [
    "Looking the disease information we can observer that have a drug associated. We are going to see what target has and the quimical compound. Click on the Drug ID. Answer:"
   ]
  },
  {
   "cell_type": "markdown",
   "metadata": {},
   "source": [
    "**Other name**: \n",
    "\n",
    "**Formula**: \n",
    "\n",
    "**Mol weight**: \n",
    "\n",
    "**Therapeutic category (name not ID)**: \n",
    "\n",
    "**Efficacy**: \n",
    "\n",
    "**Target**:\n",
    "\n",
    "**Country of the therapeutic category**: \n"
   ]
  },
  {
   "cell_type": "markdown",
   "metadata": {},
   "source": [
    "Some researchers describe that type 2 diabetes mellitus (DM2) appears to be a risk factor for contracting the coronavirus infection. We are going to search the diabetes mellitus in KEGG like DISEASE. "
   ]
  },
  {
   "cell_type": "markdown",
   "metadata": {},
   "source": [
    "Once you found the information, search the pathway of \"Type II diabetes mellitus\". Click to see the pathway and at the left you can scale the map. Answer:"
   ]
  },
  {
   "cell_type": "markdown",
   "metadata": {},
   "source": [
    "**Pathway ID**:\n",
    "\n",
    "**Red highlight compounds**: \n",
    "\n",
    "\n",
    "-First red highlight compound  \n",
    "**Pathway related**: \n",
    "\n",
    "**+py?**: \n",
    "\n",
    "**Metabolic action**: \n",
    "\n",
    "\n",
    "-Second red highlight compound  \n",
    "**Metabolic action**:  "
   ]
  },
  {
   "cell_type": "markdown",
   "metadata": {},
   "source": [
    "Now, we are going to take a look to the first red highlight compound (name starts with the letter I). Answer:"
   ]
  },
  {
   "cell_type": "markdown",
   "metadata": {},
   "source": [
    "**KEGG ORTHOLOGY (KO)**:\n",
    "\n",
    "**Orthology organism/identity(best identity)**: \n",
    "\n",
    "**Paralog gene entry/KO/identity(best identity)**: \n",
    "\n",
    "**Structure (PDB)**: \n",
    "\n",
    "**Position**: \n",
    "\n",
    "**Number of aa**: \n"
   ]
  },
  {
   "cell_type": "markdown",
   "metadata": {},
   "source": [
    "## Fasta format"
   ]
  },
  {
   "cell_type": "markdown",
   "metadata": {},
   "source": [
    "### GenkBank "
   ]
  },
  {
   "cell_type": "markdown",
   "metadata": {},
   "source": [
    "In this part, we will search the sequence of the virus SARS-COV-2 using GenkBank. Link: https://www.ncbi.nlm.nih.gov/genbank/ <br><br> When we are in the detailed information of the sequence, search the CDS part and get the GeneID. "
   ]
  },
  {
   "cell_type": "markdown",
   "metadata": {},
   "source": [
    "GeneID: "
   ]
  },
  {
   "cell_type": "markdown",
   "metadata": {},
   "source": [
    "Now, click into the **GeneID accession** and dowload the fasta file of the **NC_045512.2** genome code. Use this file as an input and write a brief code using the dictionary dic_translation to obtain the protein sequence from the DNA sequence. Also, at the end you script must need to return a file with the next format: \n",
    "#Name Date   \n",
    "Description line from the original fasta file (start with the symbol >)  \n",
    "DNA sequence  \n",
    "Line with: Genename GeneID Region(e.g 26..4155) (start with the symbol >)  \n",
    "Protein sequence  "
   ]
  },
  {
   "cell_type": "code",
   "execution_count": 67,
   "metadata": {},
   "outputs": [],
   "source": [
    "dic_translation = { \n",
    "        'AUA':'I', 'AUC':'I', 'AUU':'I', 'AUG':'M', \n",
    "        'ACA':'U', 'ACC':'U', 'ACG':'U', 'ACU':'U', \n",
    "        'AAC':'N', 'AAU':'N', 'AAA':'K', 'AAG':'K', \n",
    "        'AGC':'S', 'AGU':'S', 'AGA':'R', 'AGG':'R',                  \n",
    "        'CUA':'L', 'CUC':'L', 'CUG':'L', 'CUU':'L', \n",
    "        'CCA':'P', 'CCC':'P', 'CCG':'P', 'CCU':'P', \n",
    "        'CAC':'H', 'CAU':'H', 'CAA':'Q', 'CAG':'Q', \n",
    "        'CGA':'R', 'CGC':'R', 'CGG':'R', 'CGU':'R', \n",
    "        'GUA':'V', 'GUC':'V', 'GUG':'V', 'GUU':'V', \n",
    "        'GCA':'A', 'GCC':'A', 'GCG':'A', 'GCU':'A', \n",
    "        'GAC':'D', 'GAU':'D', 'GAA':'E', 'GAG':'E', \n",
    "        'GGA':'G', 'GGC':'G', 'GGG':'G', 'GGU':'G', \n",
    "        'UCA':'S', 'UCC':'S', 'UCG':'S', 'UCU':'S', \n",
    "        'UUC':'F', 'UUU':'F', 'UUA':'L', 'UUG':'L', \n",
    "        'UAC':'Y', 'UAU':'Y', 'UAA':'', 'UAG':'', \n",
    "        'UGC':'C', 'UGU':'C', 'UGA':'', 'UGG':'W', \n",
    "    } \n",
    "\n",
    "#Read the file\n",
    "\n",
    "#Save values into variables for the output file\n",
    "\n",
    "#Isolate the description from the sequence\n",
    "\n",
    "#Transcription of the sequence\n",
    "\n",
    "#Check nucleotide triplets and translate to amino acid using dic_translation. Tip: range(0,len(seq),3)\n",
    "\n",
    "#Create the output file using the variables created before\n"
   ]
  },
  {
   "cell_type": "markdown",
   "metadata": {},
   "source": [
    "### Uniprot"
   ]
  },
  {
   "cell_type": "markdown",
   "metadata": {},
   "source": [
    "Now, we will search the sequence of the virus SARS-COV-2 using Uniprot. Link: https://www.uniprot.org/. How many sequences are reviewed? How many are unreviewed?"
   ]
  },
  {
   "cell_type": "markdown",
   "metadata": {},
   "source": [
    "- Reviewed: \n",
    "- Unreviewed: "
   ]
  },
  {
   "cell_type": "markdown",
   "metadata": {},
   "source": [
    "Filter by **Reviewed** and download the \"Replicase polyprotein 1ab (P0DTD1)\" and the \"Replicase polyprotein 1a (P0DTC1)\" fasta files. Once we have both files downloaded, using Python skills, we will go to compare against each other the sequences and we will extract a percent of coincidences between them. Something like an local alignment.  "
   ]
  },
  {
   "cell_type": "code",
   "execution_count": 74,
   "metadata": {},
   "outputs": [
    {
     "name": "stdout",
     "output_type": "stream",
     "text": [
      "The percentage of coincidence is: 99.90919409761635%\n"
     ]
    }
   ],
   "source": [
    "#Read the file\n",
    "\n",
    "#Isolate the sequences (you can use a symbol to identify when a sequence starts in the middle of the string)\n",
    "\n",
    "#Compare lenght of the sequences and use the shortest as the reference. Remove error about lenght\n",
    "\n",
    "#Check 1 by 1 the sequences and print the percentage of coincidence\n"
   ]
  }
 ],
 "metadata": {
  "kernelspec": {
   "display_name": "Python 3 (ipykernel)",
   "language": "python",
   "name": "python3"
  },
  "language_info": {
   "codemirror_mode": {
    "name": "ipython",
    "version": 3
   },
   "file_extension": ".py",
   "mimetype": "text/x-python",
   "name": "python",
   "nbconvert_exporter": "python",
   "pygments_lexer": "ipython3",
   "version": "3.9.7"
  }
 },
 "nbformat": 4,
 "nbformat_minor": 4
}
